{
 "cells": [
  {
   "cell_type": "markdown",
   "metadata": {},
   "source": [
    "# Ejercicios Pair Programming - Sprint 2 \n",
    "## Lección 10 - Clases\n",
    "### Silvia Gordón, Lourdes Ochoa y Sonia Ruiz"
   ]
  },
  {
   "cell_type": "markdown",
   "metadata": {},
   "source": [
    "En este ejercicio de pair programming crearemos una clase. Imaginemos que nuestro jefe nos pide que creemos una clase para tener más ordenada la información sobre cada uno de los empleados de la empresa. Para ello:\n",
    "\n",
    "\n",
    "1. Definid una clase que se llame Empleados.\n",
    "\n",
    "\n",
    "2. Definid los siguientes atributos que caracterizan a nuestros empleados:\n",
    "\n",
    "    - nombre\n",
    "\n",
    "    - apellido\n",
    "\n",
    "    - edad\n",
    "\n",
    "    - posición que ocupa en la empresa\n",
    "\n",
    "    - año en que entró en la empresa\n",
    "\n",
    "    - número de días de vacaciones que tiene\n",
    "\n",
    "    - Las herramientas que usa cada uno de ellos, por ejemplo, Outlook, excel y word. Deberá ser una lista.\n",
    "    \n",
    "\n",
    "3. Cread una instancia para la clase creada\n",
    "\n",
    "\n",
    "4. Definid los siguientes métodos:\n",
    "\n",
    "    - descripción\n",
    "\n",
    "    - calculo_vacaciones\n",
    "\n",
    "    - cambiando_posicion\n",
    "\n",
    "\n",
    "\n",
    "**Tips para definir los métodos:**\n",
    "\n",
    "\n",
    "1. Método descripcion:\n",
    "\n",
    "    - El return deberá ser un string en el que aparezca el nombre, apellidos, los años que lleva en la empresa y los días de vacaciones que le quedan. Este método deberá devolver algo como esto:\n",
    "    \n",
    "        `\"El/ella, es Lorena, Data Analyst, quien lleva con nostros en la empresa desde 2000. Además este año le quedan 15 dias de vacaciones\"`\n",
    "\n",
    "\n",
    "2. Método calculo_vacaciones:\n",
    "\n",
    "    - Deberá contener input que nos pregunte cuántos días te quieres ir de vacaciones.\n",
    "\n",
    "    - Luego deberemos restar el número de días que se fue de vacaciones a el número total de vacaciones que tiene ese empleado.\n",
    "\n",
    "    - Una condición que chequee si:\n",
    "\n",
    "        ·Si el numero de vacaciones que tiene el empleado es igual a 0, devolved un mensaje que diga que se le acabaron las vacaciones\n",
    "\n",
    "        · Si el número de días que se quiere ir de vacaciones es mayor que el número de vacaciones que le quedan, devolved un mensaje que diga que no se puede ir tantos de vacaciones\n",
    "\n",
    "        · En caso de que no se cumplan ninguna de estas condiciones, que nos devuelva el número de vacaciones que le quedan al empleado.\n",
    "\n",
    "\n",
    "3. Método cambiando_posicion:\n",
    "\n",
    "    - Iteraremos por la lista de herramientas que usa el empleado:\n",
    "\n",
    "        · Si el empleado usa \"Python\" devolveremos un mensaje de bien hecho!\n",
    "        \n",
    "        · Si el empleado usa \"Excel\" le recomendaremos amigablemente que deje excel y empiece a usar Excel\n",
    "        \n",
    "\n",
    "Happy coding 💻"
   ]
  },
  {
   "cell_type": "code",
   "execution_count": null,
   "metadata": {},
   "outputs": [],
   "source": []
  }
 ],
 "metadata": {
  "kernelspec": {
   "display_name": "Python 3.6.9 64-bit",
   "language": "python",
   "name": "python3"
  },
  "language_info": {
   "name": "python",
   "version": "3.6.9"
  },
  "orig_nbformat": 4,
  "vscode": {
   "interpreter": {
    "hash": "31f2aee4e71d21fbe5cf8b01ff0e069b9275f58929596ceb00d14d90e3e16cd6"
   }
  }
 },
 "nbformat": 4,
 "nbformat_minor": 2
}
