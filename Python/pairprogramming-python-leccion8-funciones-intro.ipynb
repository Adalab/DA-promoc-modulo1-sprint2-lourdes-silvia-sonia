{
 "cells": [
  {
   "cell_type": "markdown",
   "metadata": {},
   "source": [
    "# Ejercicios Pair Programming - Sprint 2\n",
    "## Lección 8 - Funciones Intro\n",
    "### Lourdes, Silvia y Sonia"
   ]
  },
  {
   "cell_type": "markdown",
   "metadata": {},
   "source": [
    "1.- Cread una función que reciba 2 números enteros en forma de string como entrada, y dé como resultado la suma (también en forma de string) Condiciones: Si los dos parámetros que recibe la función son strings vacíos la función nos debe devolver \"0\" Si el primer parámetro es un string vacío, la función nos devuelve el valor del segundo parámetro y viceversa.\n",
    "\n",
    "Probad la función para las siguientes combinaciones de \"números\" :\n",
    "\n",
    "\n",
    "\"4\",\"5\" --> \"9\"\n",
    "\n",
    "\"34\",\"5\" --> \"39\"\n",
    "\n",
    "\"\",\"\" --> \"0\"\n",
    "\n",
    "\"2\",\"\" --> \"2\"\n",
    "\n",
    "\"-5\",\"3\" --> \"-2\"\n"
   ]
  },
  {
   "cell_type": "code",
   "execution_count": 8,
   "metadata": {},
   "outputs": [],
   "source": [
    "def sumar_string(string1,string2):\n",
    "    if string1 == \"\" and string2 == \"\":\n",
    "        return \"0\"\n",
    "    elif string1 == \"\" and not string2 == \"\":\n",
    "        return string2\n",
    "    elif string2 == \"\" and not string1 == \"\":\n",
    "        return string1\n",
    "    else :\n",
    "        #ambos strings se deben convertir en integer para poder realizar la suma\n",
    "        sumar=int(string1) + int(string2)\n",
    "        return sumar\n",
    "\n",
    "numero1= input()\n",
    "numero2= input()\n",
    "sumar_string(numero1, numero2)"
   ]
  },
  {
   "cell_type": "markdown",
   "metadata": {},
   "source": [
    "2.- El objetivo es comparar cada par de enteros de 2 listas, y devolver una nueva lista con el número mayor de la comapración.. Probad la función para las siguientes listas:\n",
    "\n",
    "arr1 = [13, 64, 15, 17, 88]\n",
    "\n",
    "arr2 = [23, 14, 53, 17, 80]\n",
    "\n",
    "resultado = [23, 64, 53, 17, 88]\n",
    "\n",
    "Pista 💡 En Python existe el método zip.\n",
    "\n",
    "El objetivo es comparar cada par de enteros de 2 listas, y devolver una nueva lista con el número mayor de la comapración."
   ]
  },
  {
   "cell_type": "code",
   "execution_count": 11,
   "metadata": {},
   "outputs": [],
   "source": [
    "def comparar_listas(lista1, lista2):\n",
    "    #convertirmos el zip de las listas en una lista para poder trabajar con ello, ya que un zip está \"codificado\".\n",
    "    lista_total=list(zip(lista1,lista2))\n",
    "    lista_mayores=[]\n",
    "    i=0\n",
    "    while i<len(lista_total):\n",
    "        lista_mayores.append(max(lista_total[i]))\n",
    "        i+=1\n",
    "    return lista_mayores\n",
    "\n",
    "arr1=[13,64,15,17,88]\n",
    "arr2=[23,14,53,17,80]\n",
    "comparar_listas(arr1,arr2)"
   ]
  },
  {
   "cell_type": "markdown",
   "metadata": {},
   "source": [
    "3.- El objetivo de este ejercicio es convertir un string en un nuevo string en el que cada carácter del nuevo string es \"(\" si ese carácter aparece sólo una vez en el string original, o \")\" si ese carácter aparece más de una vez en el string. Nuestro código no tiene que ser case sensitive, es decir, si hay una letra en mayúscula y en minúscula cuenta como dos apariciones.\n",
    "\n",
    "Probad la función para los siguientes strings\n",
    "\"din\" => \"(((\"\n",
    "\"recede\" => \"()()()\"\n",
    "\"Success\" => \")())())\"\n",
    "\"(( @\" => \"))((\"\n",
    "\"Ocvl@GamFLAFkixkS\" => \"((()(()()))))(()(\" ."
   ]
  },
  {
   "cell_type": "code",
   "execution_count": 17,
   "metadata": {},
   "outputs": [],
   "source": [
    "def convertir_string(string3):\n",
    "    #string3 debe ser un string con mayusculas o minusculas, pero no debe contener tildes.\n",
    "    lista_string=[]\n",
    "    string_minus=string3.lower()\n",
    "    for i in string_minus:\n",
    "        if string_minus.count(i)==1:\n",
    "            lista_string.append(\"(\")\n",
    "        elif string_minus.count(i)>=2:\n",
    "            lista_string.append(\")\")\n",
    "    return \"\".join(lista_string)  "
   ]
  },
  {
   "cell_type": "code",
   "execution_count": 21,
   "metadata": {},
   "outputs": [
    {
     "data": {
      "text/plain": [
       "'((((((('"
      ]
     },
     "execution_count": 21,
     "metadata": {},
     "output_type": "execute_result"
    }
   ],
   "source": [
    "frase_prueba=input()\n",
    "convertir_string(frase_prueba)"
   ]
  }
 ],
 "metadata": {
  "kernelspec": {
   "display_name": "Python 3.9.7 ('base')",
   "language": "python",
   "name": "python3"
  },
  "language_info": {
   "codemirror_mode": {
    "name": "ipython",
    "version": 3
   },
   "file_extension": ".py",
   "mimetype": "text/x-python",
   "name": "python",
   "nbconvert_exporter": "python",
   "pygments_lexer": "ipython3",
   "version": "3.9.7"
  },
  "orig_nbformat": 4,
  "vscode": {
   "interpreter": {
    "hash": "468215beec16e96f99bc366ecab75b1d75db716e353e0417cbdb37be88f0d883"
   }
  }
 },
 "nbformat": 4,
 "nbformat_minor": 2
}
